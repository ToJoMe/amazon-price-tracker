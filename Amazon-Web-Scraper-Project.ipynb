{
 "cells": [
  {
   "cell_type": "markdown",
   "metadata": {},
   "source": [
    "# Amazon Price-Tracker"
   ]
  },
  {
   "cell_type": "markdown",
   "metadata": {},
   "source": [
    "This project is about webscraping with python. The goal is to scrap data from a website (in our case amazon.com) for a specific product. The data can be anything which can be found on the static site like price, ratings, productname. After scraping the data, it will be stored in a csv-file. The process of scraping can be automated with a function. First we build the project up step by step and implement everything in a function to run it easily. The next step is building a function in order to get a notification via mail, when a specific price is reached. "
   ]
  },
  {
   "cell_type": "code",
   "execution_count": 174,
   "metadata": {},
   "outputs": [],
   "source": [
    "# import libraries\n",
    "from bs4 import BeautifulSoup\n",
    "import requests\n",
    "import time\n",
    "import datetime\n",
    "import smtplib\n",
    "import csv\n",
    "import datetime\n",
    "import pandas as pd"
   ]
  },
  {
   "cell_type": "markdown",
   "metadata": {},
   "source": [
    "## Building the project step by step"
   ]
  },
  {
   "cell_type": "code",
   "execution_count": 161,
   "metadata": {},
   "outputs": [],
   "source": [
    "# Connect to Website\n",
    "URL = 'https://www.amazon.de/Apple-Watch-Aluminiumgehäuse-Space-Sportarmband-Schwarz/dp/B08J6TQP1B/ref=sr_1_3?__mk_de_DE=ÅMÅŽÕÑ&crid=10A3K0UHADJBU&dchild=1&keywords=apple+watch+se&qid=1631281226&sprefix=apple+w%2Caps%2C507&sr=8-3'\n",
    "\n",
    "# User-Agent - need to do for own computer\n",
    "headers = {\"User-Agent\": \"Mozilla/5.0 (Macintosh; Intel Mac OS X 10_15_7) AppleWebKit/605.1.15 (KHTML, like Gecko) Version/14.1.2 Safari/605.1.15\", \"Accept-Encoding\":\"gzip, deflate\", \"Accept\":\"text/html,application/xhtml+xml,application/xml;q=0.9,*/*;q=0.8\", \"DNT\":\"1\",\"Connection\":\"close\", \"Upgrade-Insecure-Requests\":\"1\"}\n",
    "page = requests.get(URL, headers=headers)\n",
    "soup1 = BeautifulSoup(page.content, 'html.parser')\n",
    "soup2 = BeautifulSoup(soup1.prettify(), 'html.parser')\n",
    "\n",
    "# get the title of the product\n",
    "title = soup2.find(id='productTitle').get_text()\n",
    "\n",
    "# get the price of the product\n",
    "price = soup2.find(id='priceblock_ourprice').get_text()\n",
    "\n",
    "# get the ratings of the product\n",
    "ratings = soup2.find(id='averageCustomerReviews').get_text()\n",
    "\n",
    "# get the number of ratings for the product\n",
    "numb_ratings = soup2.find(id='acrCustomerReviewText').get_text()\n"
   ]
  },
  {
   "cell_type": "code",
   "execution_count": 162,
   "metadata": {},
   "outputs": [],
   "source": [
    "# clean the data\n",
    "price = float(price.strip().replace(',', '.')[:6])\n",
    "title = title.strip().replace('\\xa0', '')\n",
    "rating = ratings.strip()[:3]\n",
    "numb_rating = numb_ratings.strip()[:5]"
   ]
  },
  {
   "cell_type": "code",
   "execution_count": 163,
   "metadata": {},
   "outputs": [
    {
     "name": "stdout",
     "output_type": "stream",
     "text": [
      "AppleWatch SE (GPS, 40mm) Aluminiumgehäuse Space Grau, Sportarmband Schwarz\n",
      "275.0\n",
      "4,8\n",
      "6.973\n"
     ]
    }
   ],
   "source": [
    "# check the cleaned data\n",
    "print(title)\n",
    "print(price)\n",
    "print(rating)\n",
    "print(numb_rating)"
   ]
  },
  {
   "cell_type": "code",
   "execution_count": 164,
   "metadata": {},
   "outputs": [
    {
     "name": "stdout",
     "output_type": "stream",
     "text": [
      "2021-09-11\n"
     ]
    }
   ],
   "source": [
    "# set a datetime value\n",
    "today = datetime.date.today()\n",
    "print(today)"
   ]
  },
  {
   "cell_type": "code",
   "execution_count": 165,
   "metadata": {},
   "outputs": [],
   "source": [
    "# write the collected data into a csv-file\n",
    "\n",
    "header = ['Title', 'Price', 'Rating', 'Num_Ratings', 'Date']\n",
    "data = [title, price, rating, numb_rating, today]\n",
    "\n",
    "#with open('Amazon-Web-Scraper-Dataset.csv', 'w', newline='', encoding='UTF8') as f:\n",
    "    #writer = csv.writer(f)\n",
    "    #writer.writerow(header)\n",
    "    #writer.writerow(data)"
   ]
  },
  {
   "cell_type": "code",
   "execution_count": 166,
   "metadata": {},
   "outputs": [],
   "source": [
    "# read in the generated dataset\n",
    "df = pd.read_csv('Amazon-Web-Scraper-Dataset.csv')"
   ]
  },
  {
   "cell_type": "code",
   "execution_count": 167,
   "metadata": {},
   "outputs": [
    {
     "data": {
      "text/html": [
       "<div>\n",
       "<style scoped>\n",
       "    .dataframe tbody tr th:only-of-type {\n",
       "        vertical-align: middle;\n",
       "    }\n",
       "\n",
       "    .dataframe tbody tr th {\n",
       "        vertical-align: top;\n",
       "    }\n",
       "\n",
       "    .dataframe thead th {\n",
       "        text-align: right;\n",
       "    }\n",
       "</style>\n",
       "<table border=\"1\" class=\"dataframe\">\n",
       "  <thead>\n",
       "    <tr style=\"text-align: right;\">\n",
       "      <th></th>\n",
       "      <th>Title</th>\n",
       "      <th>Price</th>\n",
       "      <th>Rating</th>\n",
       "      <th>Num_Ratings</th>\n",
       "      <th>Date</th>\n",
       "    </tr>\n",
       "  </thead>\n",
       "  <tbody>\n",
       "    <tr>\n",
       "      <th>0</th>\n",
       "      <td>AppleWatch SE (GPS, 40mm) Aluminiumgehäuse Spa...</td>\n",
       "      <td>275.0</td>\n",
       "      <td>4,8</td>\n",
       "      <td>6.973</td>\n",
       "      <td>2021-09-11</td>\n",
       "    </tr>\n",
       "  </tbody>\n",
       "</table>\n",
       "</div>"
      ],
      "text/plain": [
       "                                               Title  Price Rating  \\\n",
       "0  AppleWatch SE (GPS, 40mm) Aluminiumgehäuse Spa...  275.0    4,8   \n",
       "\n",
       "   Num_Ratings        Date  \n",
       "0        6.973  2021-09-11  "
      ]
     },
     "execution_count": 167,
     "metadata": {},
     "output_type": "execute_result"
    }
   ],
   "source": [
    "df"
   ]
  },
  {
   "cell_type": "markdown",
   "metadata": {},
   "source": [
    "# Build a automated Process for the Price-Tracker"
   ]
  },
  {
   "cell_type": "code",
   "execution_count": 179,
   "metadata": {},
   "outputs": [],
   "source": [
    "# build a function which sends a notification to your email\n",
    "\n",
    "def send_mail():\n",
    "    #define the client and set a smtp connection\n",
    "    server = smtplib.SMTP_SSL('smtp.gmail.com', 465)\n",
    "    #identify yourself to the esmpt server\n",
    "    server.ehlo()\n",
    "    #login with your credentials\n",
    "    server.login('xxxxxxxxxxx@gmail.com', 'xxxxxxxxxx') #put in email and password\n",
    "    \n",
    "    subject = 'Cheap Apple-Watch SE offer'\n",
    "    body = \"Tobias, this is the moment to buy the Apple Watch - dont wait, just grab it\\n Here is the link to the offer: \"\n",
    "    msg = f\"Subject: {subject}\\n\\n{body}\"\n",
    "    \n",
    "    #send the mail to your account\n",
    "    server.sendmail(to_addrs='xxxxxxxxxxxx@gmail.com', from_addr ='xxxxxxxxxxx@gmail.com', msg=msg)"
   ]
  },
  {
   "cell_type": "code",
   "execution_count": 180,
   "metadata": {},
   "outputs": [],
   "source": [
    "# build a function which does the steps before all along and checks the price \n",
    "\n",
    "def check_price():\n",
    "    # Connect to Website\n",
    "    URL = 'https://www.amazon.de/Apple-Watch-Aluminiumgehäuse-Space-Sportarmband-Schwarz/dp/B08J6TQP1B/ref=sr_1_3?__mk_de_DE=ÅMÅŽÕÑ&crid=10A3K0UHADJBU&dchild=1&keywords=apple+watch+se&qid=1631281226&sprefix=apple+w%2Caps%2C507&sr=8-3'\n",
    "\n",
    "    # User-Agent - need to do for own computer\n",
    "    headers = {\"User-Agent\": \"Mozilla/5.0 (Macintosh; Intel Mac OS X 10_15_7) AppleWebKit/605.1.15 (KHTML, like Gecko) Version/14.1.2 Safari/605.1.15\", \"Accept-Encoding\":\"gzip, deflate\", \"Accept\":\"text/html,application/xhtml+xml,application/xml;q=0.9,*/*;q=0.8\", \"DNT\":\"1\",\"Connection\":\"close\", \"Upgrade-Insecure-Requests\":\"1\"}\n",
    "    page = requests.get(URL, headers=headers)\n",
    "    soup1 = BeautifulSoup(page.content, 'html.parser')\n",
    "    soup2 = BeautifulSoup(soup1.prettify(), 'html.parser')\n",
    "\n",
    "    # get the title of the product\n",
    "    title = soup2.find(id='productTitle').get_text()\n",
    "\n",
    "    # get the price of the product\n",
    "    price = soup2.find(id='priceblock_ourprice').get_text()\n",
    "\n",
    "    # get the ratings of the product\n",
    "    ratings = soup2.find(id='averageCustomerReviews').get_text()\n",
    "\n",
    "    # get the number of ratings for the product\n",
    "    numb_ratings = soup2.find(id='acrCustomerReviewText').get_text()\n",
    "    \n",
    "    # transform the data\n",
    "    # clean the data\n",
    "    price = float(price.strip().replace(',', '.')[:6])\n",
    "    title = title.strip().replace('\\xa0', '')\n",
    "    rating = ratings.strip()[:3]\n",
    "    numb_rating = numb_ratings.strip()[:5]\n",
    "    \n",
    "    import datetime\n",
    "    today = datetime.date.today()\n",
    "    \n",
    "    import csv\n",
    "    header = ['Title', 'Price', 'Rating', 'Num_Ratings', 'Date']\n",
    "    data = [title, price, rating, numb_rating, today]\n",
    "    \n",
    "    with open('Amazon-Web-Scraper-Dataset.csv', 'a+', newline='', encoding='UTF8') as f:\n",
    "        writer = csv.writer(f)\n",
    "        writer.writerow(data)\n",
    "        \n",
    "    if(price < 280):\n",
    "        send_mail()\n",
    "    \n",
    "    "
   ]
  },
  {
   "cell_type": "code",
   "execution_count": 181,
   "metadata": {
    "collapsed": true
   },
   "outputs": [
    {
     "ename": "KeyboardInterrupt",
     "evalue": "",
     "output_type": "error",
     "traceback": [
      "\u001b[0;31m---------------------------------------------------------------------------\u001b[0m",
      "\u001b[0;31mKeyboardInterrupt\u001b[0m                         Traceback (most recent call last)",
      "\u001b[0;32m<ipython-input-181-cce986848f89>\u001b[0m in \u001b[0;36m<module>\u001b[0;34m\u001b[0m\n\u001b[1;32m      3\u001b[0m \u001b[0;32mwhile\u001b[0m\u001b[0;34m(\u001b[0m\u001b[0;32mTrue\u001b[0m\u001b[0;34m)\u001b[0m\u001b[0;34m:\u001b[0m\u001b[0;34m\u001b[0m\u001b[0;34m\u001b[0m\u001b[0m\n\u001b[1;32m      4\u001b[0m     \u001b[0mcheck_price\u001b[0m\u001b[0;34m(\u001b[0m\u001b[0;34m)\u001b[0m\u001b[0;34m\u001b[0m\u001b[0;34m\u001b[0m\u001b[0m\n\u001b[0;32m----> 5\u001b[0;31m     \u001b[0mtime\u001b[0m\u001b[0;34m.\u001b[0m\u001b[0msleep\u001b[0m\u001b[0;34m(\u001b[0m\u001b[0;36m86400\u001b[0m\u001b[0;34m)\u001b[0m \u001b[0;31m#it is measured in seconds\u001b[0m\u001b[0;34m\u001b[0m\u001b[0;34m\u001b[0m\u001b[0m\n\u001b[0m",
      "\u001b[0;31mKeyboardInterrupt\u001b[0m: "
     ]
    }
   ],
   "source": [
    "# set a timer to check the price for a certain time limit\n",
    "\n",
    "while(True):\n",
    "    check_price()\n",
    "    time.sleep(86400) #it is measured in seconds"
   ]
  },
  {
   "cell_type": "code",
   "execution_count": null,
   "metadata": {},
   "outputs": [],
   "source": []
  },
  {
   "cell_type": "code",
   "execution_count": null,
   "metadata": {},
   "outputs": [],
   "source": []
  }
 ],
 "metadata": {
  "kernelspec": {
   "display_name": "Python 3",
   "language": "python",
   "name": "python3"
  },
  "language_info": {
   "codemirror_mode": {
    "name": "ipython",
    "version": 3
   },
   "file_extension": ".py",
   "mimetype": "text/x-python",
   "name": "python",
   "nbconvert_exporter": "python",
   "pygments_lexer": "ipython3",
   "version": "3.8.5"
  }
 },
 "nbformat": 4,
 "nbformat_minor": 4
}
